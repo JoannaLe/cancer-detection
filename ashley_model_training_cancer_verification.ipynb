{
  "nbformat": 4,
  "nbformat_minor": 0,
  "metadata": {
    "colab": {
      "name": "ashley-model-training-cancer-verification.ipynb",
      "version": "0.3.2",
      "provenance": [],
      "include_colab_link": true
    },
    "kernelspec": {
      "name": "python3",
      "display_name": "Python 3"
    }
  },
  "cells": [
    {
      "cell_type": "markdown",
      "metadata": {
        "id": "view-in-github",
        "colab_type": "text"
      },
      "source": [
        "<a href=\"https://colab.research.google.com/github/JoannaLe/cancer-detection/blob/master/ashley_model_training_cancer_verification.ipynb\" target=\"_parent\"><img src=\"https://colab.research.google.com/assets/colab-badge.svg\" alt=\"Open In Colab\"/></a>"
      ]
    },
    {
      "cell_type": "code",
      "metadata": {
        "id": "q6eD1hLsoPdX",
        "colab_type": "code",
        "colab": {
          "base_uri": "https://localhost:8080/",
          "height": 996
        },
        "outputId": "fc1c8b36-bf4f-492e-a98d-60cb33f28706"
      },
      "source": [
        "from keras.applications.resnet50 import ResNet50\n",
        "from keras.layers import Conv2D, Dense, Dropout, Flatten, MaxPooling2D\n",
        "from keras.models import Sequential, Model\n",
        "\n",
        "import numpy as np\n",
        "import os\n",
        "import matplotlib.pyplot as plt\n",
        "\n",
        "GOOGLE_APPLICATION_CREDENTIALS = '/content/cancer-detection-fa915e095a9d.json'\n",
        "\n",
        "\n",
        "# Open Google Cloud Drive\n",
        "from google.colab import drive\n",
        "drive.mount('/content/gdrive')\n",
        "\n",
        "\n",
        "print(os.getcwd())\n",
        "os.chdir(\"/content\")\n",
        "!ls\n",
        "\n",
        "# get X training data\n",
        "x_path = \"gdrive/My Drive/cancer-detection/patch-zoom-6\"\n",
        "print(x_path)\n",
        "files = os.listdir(x_path)\n",
        "number_files = len(files)\n",
        "print(number_files)\n",
        "X_train = []\n",
        "\n",
        "for patch_file in os.listdir(x_path):\n",
        "  patch_path = os.path.join(x_path, patch_file)\n",
        "  patch_arr = np.load(patch_path)\n",
        "  X_train.append(patch_arr)\n",
        "  \n",
        "print(type(X_train[0]))\n",
        "print(len(X_train))\n",
        "X_train = np.array(X_train)\n",
        "\n",
        "# get Y training data\n",
        "y_path = \"gdrive/My Drive/cancer-detection/mask-zoom-6\"\n",
        "print(os.listdir(y_path))\n",
        "y_train = []\n",
        "\n",
        "for mask_file in os.listdir(y_path):\n",
        "  mask_path = os.path.join(y_path, mask_file)\n",
        "  mask = open(mask_path, 'r').read()\n",
        "  y_train.append(int(mask))\n",
        "  \n",
        "print(type(y_train[0]))\n",
        "print(y_train)\n",
        "print(len(y_train))\n",
        "y_train = np.array(y_train)\n",
        "\n",
        "# test 1 model at zoom level 6\n",
        "img_shape = (224,224,3)\n",
        "EPOCHS = 5\n",
        "BATCH_SIZE = 32\n",
        "NUM_OF_RESULTS = 2\n",
        "\n",
        "# model = ResNet50(include_top=True, weights='imagenet', input_shape=img_shape)\n",
        "# # x = Flatten()(base.output)\n",
        "# # x = Dense(NUM_OF_RESULTS, activation='sigmoid', return_sequences = False)(x)\n",
        "# # model = Model(inputs=base.inputs, outputs=x) # creating 2 class ResNet50 \n",
        "\n",
        "# model.compile(loss='binary_crossentropy',\n",
        "#               optimizer='adam',\n",
        "#               metrics=['accuracy'])\n",
        "# model.summary()\n",
        "\n",
        "\n",
        "# model1.fit(X_train, y_train, epochs=EPOCHS, batch_size=BATCH_SIZE)\n",
        "\n",
        "img_shape = (224,224,3)\n",
        "EPOCHS = 10\n",
        "BATCH_SIZE = 32\n",
        "\n",
        "model = Sequential()\n",
        "model.add(Conv2D(64, (3,3), activation='relu', input_shape=img_shape))\n",
        "model.add(Flatten())\n",
        "model.add(Dense(32, activation='relu'))\n",
        "model.add(Dense(1, activation='sigmoid'))\n",
        "model.compile(loss='binary_crossentropy',\n",
        "              optimizer='adam',\n",
        "              metrics=['accuracy'])\n",
        "model.summary()\n",
        "\n",
        "\n",
        "print(X_train.shape)\n",
        "\n",
        "model.fit(X_train, y_train, epochs=EPOCHS, batch_size=BATCH_SIZE)"
      ],
      "execution_count": 3,
      "outputs": [
        {
          "output_type": "stream",
          "text": [
            "Drive already mounted at /content/gdrive; to attempt to forcibly remount, call drive.mount(\"/content/gdrive\", force_remount=True).\n",
            "/content\n",
            "gdrive\tsample_data\n",
            "gdrive/My Drive/cancer-detection/patch-zoom-6\n",
            "506\n",
            "<class 'numpy.ndarray'>\n",
            "506\n",
            "['005-mask-0', '005-mask-1', '005-mask-2', '005-mask-3', '005-mask-4', '005-mask-6', '005-mask-5', '005-mask-7', '005-mask-8', '005-mask-9', '005-mask-11', '005-mask-10', '005-mask-12', '005-mask-13', '005-mask-14', '005-mask-15', '005-mask-16', '005-mask-17', '005-mask-18', '005-mask-19', '005-mask-20', '005-mask-21', '005-mask-22', '005-mask-23', '005-mask-24', '005-mask-25', '005-mask-27', '005-mask-26', '005-mask-28', '005-mask-29', '005-mask-30', '005-mask-31', '005-mask-32', '005-mask-33', '005-mask-34', '005-mask-35', '005-mask-36', '005-mask-37', '005-mask-38', '005-mask-39', '005-mask-40', '005-mask-42', '005-mask-41', '005-mask-43', '005-mask-44', '005-mask-45', '005-mask-46', '005-mask-47', '005-mask-48', '005-mask-49', '005-mask-50', '005-mask-51', '005-mask-52', '005-mask-53', '005-mask-54', '005-mask-55', '005-mask-57', '005-mask-56', '005-mask-58', '005-mask-59', '005-mask-60', '005-mask-61', '005-mask-62', '005-mask-63', '005-mask-64', '005-mask-65', '005-mask-66', '005-mask-67', '005-mask-69', '005-mask-68', '005-mask-70', '005-mask-71', '005-mask-72', '005-mask-73', '005-mask-74', '005-mask-75', '005-mask-76', '005-mask-77', '005-mask-78', '005-mask-79', '005-mask-80', '005-mask-81', '005-mask-82', '005-mask-83', '005-mask-85', '005-mask-84', '005-mask-87', '005-mask-86', '005-mask-88', '005-mask-89', '005-mask-90', '005-mask-91', '005-mask-92', '005-mask-93', '005-mask-94', '005-mask-95', '005-mask-96', '005-mask-97', '005-mask-98', '005-mask-99', '005-mask-100', '005-mask-101', '005-mask-103', '005-mask-102', '005-mask-104', '005-mask-105', '005-mask-106', '005-mask-107', '005-mask-108', '005-mask-109', '005-mask-110', '005-mask-111', '005-mask-112', '005-mask-113', '005-mask-114', '005-mask-115', '005-mask-116', '005-mask-117', '005-mask-118', '005-mask-119', '005-mask-120', '005-mask-121', '005-mask-123', '005-mask-122', '005-mask-124', '005-mask-125', '005-mask-126', '005-mask-127', '005-mask-128', '005-mask-129', '005-mask-130', '005-mask-131', '005-mask-132', '005-mask-133', '005-mask-134', '005-mask-135', '005-mask-136', '005-mask-137', '005-mask-138', '005-mask-140', '005-mask-139', '005-mask-141', '005-mask-143', '005-mask-142', '005-mask-144', '005-mask-145', '005-mask-146', '005-mask-147', '005-mask-148', '005-mask-149', '005-mask-150', '005-mask-151', '005-mask-152', '005-mask-153', '005-mask-154', '005-mask-155', '005-mask-156', '005-mask-157', '005-mask-158', '005-mask-159', '005-mask-160', '005-mask-161', '005-mask-162', '005-mask-163', '005-mask-164', '005-mask-165', '005-mask-166', '005-mask-168', '005-mask-167', '005-mask-169', '005-mask-171', '005-mask-170', '005-mask-172', '005-mask-174', '005-mask-173', '005-mask-175', '005-mask-176', '005-mask-178', '005-mask-177', '005-mask-179', '005-mask-180', '005-mask-181', '005-mask-182', '005-mask-183', '005-mask-184', '005-mask-186', '005-mask-185', '005-mask-187', '005-mask-188', '005-mask-189', '005-mask-190', '005-mask-192', '005-mask-191', '005-mask-193', '005-mask-194', '005-mask-195', '005-mask-196', '005-mask-198', '005-mask-197', '005-mask-199', '005-mask-200', '005-mask-201', '005-mask-202', '005-mask-203', '005-mask-205', '005-mask-204', '005-mask-206', '005-mask-207', '005-mask-208', '005-mask-209', '005-mask-210', '005-mask-211', '005-mask-212', '005-mask-213', '005-mask-214', '005-mask-216', '005-mask-215', '005-mask-217', '005-mask-218', '005-mask-219', '005-mask-220', '005-mask-221', '005-mask-222', '005-mask-223', '005-mask-224', '005-mask-225', '005-mask-226', '005-mask-227', '005-mask-228', '005-mask-229', '005-mask-230', '005-mask-232', '005-mask-231', '005-mask-233', '005-mask-234', '005-mask-235', '005-mask-236', '005-mask-237', '005-mask-238', '005-mask-239', '005-mask-240', '005-mask-241', '005-mask-242', '005-mask-243', '005-mask-244', '005-mask-245', '005-mask-246', '005-mask-247', '005-mask-249', '005-mask-248', '005-mask-250', '005-mask-251', '005-mask-252', '005-mask-253', '005-mask-254', '005-mask-255', '005-mask-256', '005-mask-257', '005-mask-258', '005-mask-259', '005-mask-260', '005-mask-261', '005-mask-263', '005-mask-262', '005-mask-264', '005-mask-265', '005-mask-266', '005-mask-267', '005-mask-268', '005-mask-269', '005-mask-270', '005-mask-271', '005-mask-272', '005-mask-273', '005-mask-274', '005-mask-275', '005-mask-276', '005-mask-277', '005-mask-278', '005-mask-279', '005-mask-280', '005-mask-281', '005-mask-282', '005-mask-284', '005-mask-283', '005-mask-285', '005-mask-286', '005-mask-287', '005-mask-288', '005-mask-289', '005-mask-290', '005-mask-292', '005-mask-291', '005-mask-293', '005-mask-294', '005-mask-295', '005-mask-296', '005-mask-297', '005-mask-298', '005-mask-299', '005-mask-300', '005-mask-302', '005-mask-301', '005-mask-303', '005-mask-304', '005-mask-305', '005-mask-306', '005-mask-307', '005-mask-308', '005-mask-309', '005-mask-310', '005-mask-311', '005-mask-312', '005-mask-313', '005-mask-314', '005-mask-315', '005-mask-316', '005-mask-317', '005-mask-318', '005-mask-319', '005-mask-320', '005-mask-321', '005-mask-322', '005-mask-323', '005-mask-324', '005-mask-325', '005-mask-326', '005-mask-327', '005-mask-328', '005-mask-329', '005-mask-330', '005-mask-331', '005-mask-332', '005-mask-333', '005-mask-334', '005-mask-335', '005-mask-336', '005-mask-337', '005-mask-338', '005-mask-339', '005-mask-341', '005-mask-340', '005-mask-342', '005-mask-343', '005-mask-344', '005-mask-345', '005-mask-346', '005-mask-348', '005-mask-347', '005-mask-349', '005-mask-350', '005-mask-351', '005-mask-352', '005-mask-353', '005-mask-354', '005-mask-355', '005-mask-356', '005-mask-357', '005-mask-358', '005-mask-360', '005-mask-359', '005-mask-361', '005-mask-362', '005-mask-364', '005-mask-363', '005-mask-365', '005-mask-366', '005-mask-367', '005-mask-368', '005-mask-369', '005-mask-370', '005-mask-371', '005-mask-372', '005-mask-373', '005-mask-374', '005-mask-375', '005-mask-376', '005-mask-377', '005-mask-378', '005-mask-380', '005-mask-379', '005-mask-381', '005-mask-382', '005-mask-384', '005-mask-383', '005-mask-385', '005-mask-386', '005-mask-387', '005-mask-388', '005-mask-389', '005-mask-390', '005-mask-392', '005-mask-391', '005-mask-393', '005-mask-395', '005-mask-394', '005-mask-396', '005-mask-397', '005-mask-398', '005-mask-399', '005-mask-400', '005-mask-401', '005-mask-402', '005-mask-403', '005-mask-404', '005-mask-405', '005-mask-406', '005-mask-408', '005-mask-407', '005-mask-409', '005-mask-410', '005-mask-412', '005-mask-411', '005-mask-413', '005-mask-414', '005-mask-415', '005-mask-417', '005-mask-416', '005-mask-418', '005-mask-419', '005-mask-421', '005-mask-420', '005-mask-422', '005-mask-423', '005-mask-424', '005-mask-426', '005-mask-425', '005-mask-427', '005-mask-428', '005-mask-430', '005-mask-429', '005-mask-431', '005-mask-432', '005-mask-433', '091-mask-0', '091-mask-1', '091-mask-2', '091-mask-3', '091-mask-4', '091-mask-6', '091-mask-5', '091-mask-7', '091-mask-8', '091-mask-9', '091-mask-10', '091-mask-11', '091-mask-12', '091-mask-13', '091-mask-14', '091-mask-15', '091-mask-16', '091-mask-17', '091-mask-18', '091-mask-19', '091-mask-20', '091-mask-22', '091-mask-21', '091-mask-23', '091-mask-24', '091-mask-25', '091-mask-26', '091-mask-27', '091-mask-28', '091-mask-29', '091-mask-30', '091-mask-31', '091-mask-35', '091-mask-32', '091-mask-36', '091-mask-33', '091-mask-34', '091-mask-38', '091-mask-37', '091-mask-39', '091-mask-41', '091-mask-40', '091-mask-42', '091-mask-43', '091-mask-44', '091-mask-45', '091-mask-46', '091-mask-48', '091-mask-47', '091-mask-49', '091-mask-50', '091-mask-51', '091-mask-52', '091-mask-53', '091-mask-56', '091-mask-54', '091-mask-57', '091-mask-55', '091-mask-58', '091-mask-60', '091-mask-62', '091-mask-59', '091-mask-61', '091-mask-63', '091-mask-64', '091-mask-66', '091-mask-65', '091-mask-67', '091-mask-69', '091-mask-68', '091-mask-70', '091-mask-71']\n",
            "<class 'int'>\n",
            "[0, 0, 0, 0, 0, 0, 0, 0, 0, 0, 0, 0, 0, 0, 0, 0, 0, 0, 0, 0, 0, 0, 0, 0, 0, 0, 0, 0, 0, 0, 0, 0, 0, 0, 0, 0, 0, 0, 0, 0, 0, 0, 0, 0, 0, 0, 0, 0, 0, 0, 0, 0, 0, 0, 0, 0, 0, 0, 0, 0, 0, 0, 0, 0, 0, 0, 0, 0, 0, 0, 0, 0, 0, 0, 0, 0, 0, 0, 0, 0, 0, 0, 0, 0, 0, 0, 0, 0, 0, 0, 0, 0, 0, 0, 0, 0, 0, 0, 0, 0, 0, 0, 0, 0, 0, 0, 0, 0, 0, 0, 0, 0, 0, 0, 0, 0, 0, 0, 0, 0, 0, 0, 0, 0, 0, 0, 0, 0, 0, 0, 0, 0, 0, 0, 0, 0, 0, 0, 0, 0, 0, 0, 0, 0, 0, 0, 0, 0, 0, 0, 0, 0, 0, 0, 0, 0, 0, 0, 0, 0, 0, 0, 0, 0, 0, 0, 0, 0, 0, 0, 0, 0, 0, 0, 0, 0, 0, 0, 0, 0, 0, 0, 0, 0, 0, 0, 0, 0, 0, 0, 0, 0, 0, 0, 0, 0, 0, 0, 0, 0, 0, 0, 0, 0, 0, 0, 0, 0, 0, 0, 0, 0, 0, 0, 0, 0, 0, 0, 0, 0, 0, 0, 0, 0, 0, 0, 0, 0, 0, 0, 0, 0, 0, 0, 0, 0, 0, 0, 0, 0, 0, 0, 0, 0, 0, 0, 0, 0, 0, 0, 0, 0, 0, 0, 0, 0, 0, 0, 0, 0, 0, 0, 0, 0, 0, 0, 0, 0, 0, 0, 0, 0, 0, 0, 0, 0, 0, 0, 0, 0, 0, 0, 0, 0, 0, 0, 0, 0, 0, 0, 0, 0, 0, 0, 0, 0, 0, 0, 0, 0, 0, 0, 0, 0, 0, 0, 0, 0, 0, 0, 0, 0, 0, 0, 0, 0, 0, 0, 0, 0, 0, 0, 0, 0, 0, 0, 0, 0, 0, 0, 0, 0, 0, 0, 0, 0, 0, 0, 0, 0, 0, 0, 0, 0, 0, 0, 0, 0, 0, 0, 0, 0, 0, 0, 0, 0, 0, 0, 0, 0, 0, 0, 0, 0, 0, 0, 0, 0, 0, 0, 0, 0, 0, 0, 0, 0, 0, 0, 0, 0, 0, 0, 0, 0, 0, 0, 0, 0, 0, 0, 0, 0, 0, 0, 0, 0, 0, 0, 0, 0, 0, 0, 0, 0, 0, 0, 0, 0, 0, 0, 0, 0, 0, 0, 0, 0, 0, 0, 0, 0, 0, 0, 0, 0, 0, 0, 0, 0, 0, 0, 0, 0, 0, 0, 0, 0, 0, 0, 0, 0, 0, 0, 0, 0, 0, 0, 0, 0, 0, 0, 0, 0, 0, 0, 0, 0, 1, 0, 0, 0, 0, 0, 0, 0, 1, 0, 0, 0, 0, 0, 0, 0, 0, 0, 0, 0, 0, 0, 0, 0, 0, 0, 0, 0, 0, 0, 0, 0, 0, 0, 0, 0, 0, 0, 0, 0, 0, 0, 0, 0, 0, 0, 0, 0, 0, 0]\n",
            "506\n",
            "WARNING:tensorflow:From /usr/local/lib/python3.6/dist-packages/tensorflow/python/framework/op_def_library.py:263: colocate_with (from tensorflow.python.framework.ops) is deprecated and will be removed in a future version.\n",
            "Instructions for updating:\n",
            "Colocations handled automatically by placer.\n",
            "_________________________________________________________________\n",
            "Layer (type)                 Output Shape              Param #   \n",
            "=================================================================\n",
            "conv2d_1 (Conv2D)            (None, 222, 222, 64)      1792      \n",
            "_________________________________________________________________\n",
            "flatten_1 (Flatten)          (None, 3154176)           0         \n",
            "_________________________________________________________________\n",
            "dense_1 (Dense)              (None, 32)                100933664 \n",
            "_________________________________________________________________\n",
            "dense_2 (Dense)              (None, 1)                 33        \n",
            "=================================================================\n",
            "Total params: 100,935,489\n",
            "Trainable params: 100,935,489\n",
            "Non-trainable params: 0\n",
            "_________________________________________________________________\n",
            "(506, 224, 224, 3)\n",
            "WARNING:tensorflow:From /usr/local/lib/python3.6/dist-packages/tensorflow/python/ops/math_ops.py:3066: to_int32 (from tensorflow.python.ops.math_ops) is deprecated and will be removed in a future version.\n",
            "Instructions for updating:\n",
            "Use tf.cast instead.\n",
            "Epoch 1/10\n",
            "506/506 [==============================] - 73s 143ms/step - loss: 0.8906 - acc: 0.9387\n",
            "Epoch 2/10\n",
            "506/506 [==============================] - 67s 131ms/step - loss: 0.0637 - acc: 0.9960\n",
            "Epoch 3/10\n",
            "506/506 [==============================] - 67s 132ms/step - loss: 0.0637 - acc: 0.9960\n",
            "Epoch 4/10\n",
            "506/506 [==============================] - 67s 132ms/step - loss: 0.0637 - acc: 0.9960\n",
            "Epoch 5/10\n",
            "506/506 [==============================] - 66s 131ms/step - loss: 0.0637 - acc: 0.9960\n",
            "Epoch 6/10\n",
            "506/506 [==============================] - 67s 132ms/step - loss: 0.0637 - acc: 0.9960\n",
            "Epoch 7/10\n",
            "506/506 [==============================] - 67s 132ms/step - loss: 0.0637 - acc: 0.9960\n",
            "Epoch 8/10\n",
            "506/506 [==============================] - 67s 133ms/step - loss: 0.0637 - acc: 0.9960\n",
            "Epoch 9/10\n",
            "506/506 [==============================] - 67s 132ms/step - loss: 0.0637 - acc: 0.9960\n",
            "Epoch 10/10\n",
            "506/506 [==============================] - 67s 132ms/step - loss: 0.0637 - acc: 0.9960\n"
          ],
          "name": "stdout"
        },
        {
          "output_type": "execute_result",
          "data": {
            "text/plain": [
              "<keras.callbacks.History at 0x7fd06bec4e80>"
            ]
          },
          "metadata": {
            "tags": []
          },
          "execution_count": 3
        }
      ]
    },
    {
      "cell_type": "code",
      "metadata": {
        "id": "XfR-rS9CuWw9",
        "colab_type": "code",
        "colab": {
          "base_uri": "https://localhost:8080/",
          "height": 52
        },
        "outputId": "6ff96f33-9a7e-46c8-eb3b-abfe5732f734"
      },
      "source": [
        "for cell in y_train:\n",
        "  if cell == 1:\n",
        "    print(\"yes\")"
      ],
      "execution_count": 9,
      "outputs": [
        {
          "output_type": "stream",
          "text": [
            "yes\n",
            "yes\n"
          ],
          "name": "stdout"
        }
      ]
    },
    {
      "cell_type": "code",
      "metadata": {
        "id": "5ydXrfldpUs1",
        "colab_type": "code",
        "colab": {
          "base_uri": "https://localhost:8080/",
          "height": 547
        },
        "outputId": "7af16feb-9336-412e-c0ba-e671868766ec"
      },
      "source": [
        "# Validation step \n",
        "# Generate patches from image 016\n",
        "val_path = \"gdrive/My Drive/cancer-detection/patch-val/016\"\n",
        "\n",
        "\n",
        "# get X validation data\n",
        "print(val_path)\n",
        "files = os.listdir(val_path)\n",
        "number_files = len(files)\n",
        "print(number_files)\n",
        "X_val = []\n",
        "\n",
        "for patch_file in os.listdir(val_path):\n",
        "  patch_path = os.path.join(val_path, patch_file)\n",
        "  patch_arr = np.load(patch_path)\n",
        "  X_val.append(patch_arr)\n",
        "  \n",
        "print(type(X_val[0]))\n",
        "print(len(X_val))\n",
        "X_val = np.array(X_val)\n",
        "\n"
      ],
      "execution_count": 4,
      "outputs": [
        {
          "output_type": "stream",
          "text": [
            "gdrive/My Drive/cancer-detection/patch-val/016\n",
            "434\n",
            "<class 'numpy.ndarray'>\n",
            "434\n",
            "434\n"
          ],
          "name": "stdout"
        },
        {
          "output_type": "execute_result",
          "data": {
            "text/plain": [
              "<matplotlib.image.AxesImage at 0x7fd066a8d550>"
            ]
          },
          "metadata": {
            "tags": []
          },
          "execution_count": 4
        },
        {
          "output_type": "display_data",
          "data": {
            "image/png": "[encoded data removed]",
            "text/plain": [
              "<Figure size 500x500 with 1 Axes>"
            ]
          },
          "metadata": {
            "tags": []
          }
        }
      ]
    },
    {
      "cell_type": "code",
      "metadata": {
        "id": "aFcjx8qztEly",
        "colab_type": "code",
        "colab": {}
      },
      "source": [
        "# pred = model.predict(x=X_val, batch_size = 32)\n",
        "# print(len(pred))\n",
        "\n",
        "# num_patch_x = 13 # download from file \n",
        "# num_patch_y = 30\n",
        "# patch_dim = 224\n",
        "\n",
        "# pred = model.predict(x=X_val, batch_size = 32)\n",
        "\n",
        "# matrix = np.zeros((num_patch_y + 1, num_patch_x + 1), dtype=int)\n",
        "\n",
        "# count = 0\n",
        "for i in pred: \n",
        "  if i is 1:\n",
        "    print(\"cancer\")\n",
        "#   matrix[count//(num_patch_x+1)][count%(num_patch_x+1)] = i # impt\n",
        "\n",
        "# plt.figure(figsize=(5,5), dpi=100)\n",
        "# plt.imshow(matrix)"
      ],
      "execution_count": 0,
      "outputs": []
    },
    {
      "cell_type": "code",
      "metadata": {
        "id": "FDLbMKjzqZ3g",
        "colab_type": "code",
        "colab": {}
      },
      "source": [
        "# creating model for zoom 5\n",
        "\n",
        "# get X training data\n",
        "x_path = \"gdrive/My Drive/cancer-detection/patch-zoom-5\"\n",
        "print(x_path)\n",
        "files = os.listdir(x_path)\n",
        "number_files = len(files)\n",
        "print(number_files)\n",
        "X_train = []\n",
        "\n",
        "for patch_file in os.listdir(x_path):\n",
        "  patch_path = os.path.join(x_path, patch_file)\n",
        "  patch_arr = np.load(patch_path)\n",
        "  X_train.append(patch_arr)\n",
        "  \n",
        "print(type(X_train[0]))\n",
        "print(len(X_train))\n",
        "X_train = np.array(X_train)\n",
        "\n",
        "# get Y training data\n",
        "y_path = \"gdrive/My Drive/cancer-detection/mask-zoom-5\"\n",
        "print(os.listdir(y_path))\n",
        "y_train = []\n",
        "\n",
        "for mask_file in os.listdir(y_path):\n",
        "  mask_path = os.path.join(y_path, mask_file)\n",
        "  mask = open(mask_path, 'r').read()\n",
        "  y_train.append(int(mask))\n",
        "  \n",
        "print(type(y_train[0]))\n",
        "print(y_train)\n",
        "print(len(y_train))\n",
        "y_train = np.array(y_train)\n",
        "\n",
        "# test 1 model at zoom level 6\n",
        "img_shape = (224,224,3)\n",
        "EPOCHS = 5\n",
        "BATCH_SIZE = 32\n",
        "NUM_OF_RESULTS = 2\n",
        "\n",
        "# model = ResNet50(include_top=True, weights='imagenet', input_shape=img_shape)\n",
        "# # x = Flatten()(base.output)\n",
        "# # x = Dense(NUM_OF_RESULTS, activation='sigmoid', return_sequences = False)(x)\n",
        "# # model = Model(inputs=base.inputs, outputs=x) # creating 2 class ResNet50 \n",
        "\n",
        "# model.compile(loss='binary_crossentropy',\n",
        "#               optimizer='adam',\n",
        "#               metrics=['accuracy'])\n",
        "# model.summary()\n",
        "\n",
        "\n",
        "# model1.fit(X_train, y_train, epochs=EPOCHS, batch_size=BATCH_SIZE)\n",
        "\n",
        "img_shape = (224,224,3)\n",
        "EPOCHS = 10\n",
        "BATCH_SIZE = 32\n",
        "\n",
        "model = Sequential()\n",
        "model.add(Conv2D(64, (3,3), activation='relu', input_shape=img_shape))\n",
        "model.add(Flatten())\n",
        "model.add(Dense(32, activation='relu'))\n",
        "model.add(Dense(1, activation='sigmoid'))\n",
        "model.compile(loss='binary_crossentropy',\n",
        "              optimizer='adam',\n",
        "              metrics=['accuracy'])\n",
        "model.summary()\n",
        "\n",
        "\n",
        "print(X_train.shape)\n",
        "\n",
        "model.fit(X_train, y_train, epochs=EPOCHS, batch_size=BATCH_SIZE)"
      ],
      "execution_count": 0,
      "outputs": []
    },
    {
      "cell_type": "code",
      "metadata": {
        "id": "oT9BcW11vSUH",
        "colab_type": "code",
        "colab": {}
      },
      "source": [
        "# testing with a different model \n",
        "\n",
        "# test 1 model at zoom level 6\n",
        "img_shape = (224,224,3)\n",
        "EPOCHS = 5\n",
        "BATCH_SIZE = 32\n",
        "NUM_OF_RESULTS = 2\n",
        "\n",
        "model = ResNet50(include_top=True, weights='imagenet', input_shape=img_shape)\n",
        "# x = Flatten()(base.output)\n",
        "# x = Dense(NUM_OF_RESULTS, activation='sigmoid', return_sequences = False)(x)\n",
        "# model = Model(inputs=base.inputs, outputs=x) # creating 2 class ResNet50 \n",
        "\n",
        "model.compile(loss='binary_crossentropy',\n",
        "              optimizer='adam',\n",
        "              metrics=['accuracy'])\n",
        "model.summary()"
      ],
      "execution_count": 0,
      "outputs": []
    }
  ]
}