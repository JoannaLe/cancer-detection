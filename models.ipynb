{
  "nbformat": 4,
  "nbformat_minor": 0,
  "metadata": {
    "colab": {
      "name": "models.ipynb",
      "version": "0.3.2",
      "provenance": [],
      "include_colab_link": true
    },
    "kernelspec": {
      "name": "python3",
      "display_name": "Python 3"
    }
  },
  "cells": [
    {
      "cell_type": "markdown",
      "metadata": {
        "id": "view-in-github",
        "colab_type": "text"
      },
      "source": [
        "<a href=\"https://colab.research.google.com/github/JoannaLe/cancer-detection/blob/master/models.ipynb\" target=\"_parent\"><img src=\"https://colab.research.google.com/assets/colab-badge.svg\" alt=\"Open In Colab\"/></a>"
      ]
    },
    {
      "cell_type": "code",
      "metadata": {
        "id": "VrXN61UMcsAd",
        "colab_type": "code",
        "colab": {}
      },
      "source": [
        "from keras.applications.resnet50 import ResNet50\n",
        "from keras.layers import Conv2D, Dense, Dropout, Flatten, MaxPooling2D\n",
        "from keras.models import Sequential, Model\n",
        "\n",
        "import numpy as np\n",
        "import os\n",
        "import matplotlib.pyplot as plt"
      ],
      "execution_count": 0,
      "outputs": []
    },
    {
      "cell_type": "code",
      "metadata": {
        "id": "h5I2U41Hy5kX",
        "colab_type": "code",
        "colab": {
          "base_uri": "https://localhost:8080/",
          "height": 125
        },
        "outputId": "f59d46f3-363c-4f4c-abe7-9251cbc3938f"
      },
      "source": [
        "# Open Google Cloud Drive\n",
        "from google.colab import drive\n",
        "drive.mount('/content/gdrive')"
      ],
      "execution_count": 3,
      "outputs": [
        {
          "output_type": "stream",
          "text": [
            "Go to this URL in a browser: https://accounts.google.com/o/oauth2/auth?client_id=947318989803-6bn6qk8qdgf4n4g3pfee6491hc0brc4i.apps.googleusercontent.com&redirect_uri=urn%3Aietf%3Awg%3Aoauth%3A2.0%3Aoob&scope=email%20https%3A%2F%2Fwww.googleapis.com%2Fauth%2Fdocs.test%20https%3A%2F%2Fwww.googleapis.com%2Fauth%2Fdrive%20https%3A%2F%2Fwww.googleapis.com%2Fauth%2Fdrive.photos.readonly%20https%3A%2F%2Fwww.googleapis.com%2Fauth%2Fpeopleapi.readonly&response_type=code\n",
            "\n",
            "Enter your authorization code:\n",
            "··········\n",
            "Mounted at /content/gdrive\n"
          ],
          "name": "stdout"
        }
      ]
    },
    {
      "cell_type": "code",
      "metadata": {
        "id": "61cYDS6zz9wP",
        "colab_type": "code",
        "colab": {
          "base_uri": "https://localhost:8080/",
          "height": 52
        },
        "outputId": "b08c9d60-81f9-47ce-d4b0-369ddf67f9a1"
      },
      "source": [
        "!pwd\n",
        "!ls"
      ],
      "execution_count": 9,
      "outputs": [
        {
          "output_type": "stream",
          "text": [
            "/content\n",
            "gdrive\tsample_data\n"
          ],
          "name": "stdout"
        }
      ]
    },
    {
      "cell_type": "code",
      "metadata": {
        "id": "5OMHE6yazCjF",
        "colab_type": "code",
        "colab": {
          "base_uri": "https://localhost:8080/",
          "height": 277
        },
        "outputId": "1a31e722-6b3f-4986-b3cd-812a87a133ff"
      },
      "source": [
        "!ls\n",
        "x_path = \"gdrive/My Drive/cancer-detection/path-zoom-4\"\n",
        "# y_path = \"gdrive/My Drive/cancer-detection/mask-zoom-4\"\n",
        "os.chdir(x_path)\n",
        "for file in os.listdir(x_path):\n",
        "  path_file = os.path.join(x_path, file)\n",
        "  f = open(path_file, \"r\")\n",
        "  arr = f.read()\n",
        "  print(str(arr))\n"
      ],
      "execution_count": 7,
      "outputs": [
        {
          "output_type": "stream",
          "text": [
            "gdrive\tsample_data\n"
          ],
          "name": "stdout"
        },
        {
          "output_type": "error",
          "ename": "FileNotFoundError",
          "evalue": "ignored",
          "traceback": [
            "\u001b[0;31m---------------------------------------------------------------------------\u001b[0m",
            "\u001b[0;31mFileNotFoundError\u001b[0m                         Traceback (most recent call last)",
            "\u001b[0;32m<ipython-input-7-d9d291c00c25>\u001b[0m in \u001b[0;36m<module>\u001b[0;34m()\u001b[0m\n\u001b[1;32m      2\u001b[0m \u001b[0mx_path\u001b[0m \u001b[0;34m=\u001b[0m \u001b[0;34m\"gdrive/My Drive/cancer-detection/path-zoom-4\"\u001b[0m\u001b[0;34m\u001b[0m\u001b[0;34m\u001b[0m\u001b[0m\n\u001b[1;32m      3\u001b[0m \u001b[0;31m# y_path = \"gdrive/My Drive/cancer-detection/mask-zoom-4\"\u001b[0m\u001b[0;34m\u001b[0m\u001b[0;34m\u001b[0m\u001b[0;34m\u001b[0m\u001b[0m\n\u001b[0;32m----> 4\u001b[0;31m \u001b[0mos\u001b[0m\u001b[0;34m.\u001b[0m\u001b[0mchdir\u001b[0m\u001b[0;34m(\u001b[0m\u001b[0mx_path\u001b[0m\u001b[0;34m)\u001b[0m\u001b[0;34m\u001b[0m\u001b[0;34m\u001b[0m\u001b[0m\n\u001b[0m\u001b[1;32m      5\u001b[0m \u001b[0;32mfor\u001b[0m \u001b[0mfile\u001b[0m \u001b[0;32min\u001b[0m \u001b[0mos\u001b[0m\u001b[0;34m.\u001b[0m\u001b[0mlistdir\u001b[0m\u001b[0;34m(\u001b[0m\u001b[0mx_path\u001b[0m\u001b[0;34m)\u001b[0m\u001b[0;34m:\u001b[0m\u001b[0;34m\u001b[0m\u001b[0;34m\u001b[0m\u001b[0m\n\u001b[1;32m      6\u001b[0m   \u001b[0mpath_file\u001b[0m \u001b[0;34m=\u001b[0m \u001b[0mos\u001b[0m\u001b[0;34m.\u001b[0m\u001b[0mpath\u001b[0m\u001b[0;34m.\u001b[0m\u001b[0mjoin\u001b[0m\u001b[0;34m(\u001b[0m\u001b[0mx_path\u001b[0m\u001b[0;34m,\u001b[0m \u001b[0mfile\u001b[0m\u001b[0;34m)\u001b[0m\u001b[0;34m\u001b[0m\u001b[0;34m\u001b[0m\u001b[0m\n",
            "\u001b[0;31mFileNotFoundError\u001b[0m: [Errno 2] No such file or directory: 'gdrive/My Drive/cancer-detection/path-zoom-4'"
          ]
        }
      ]
    },
    {
      "cell_type": "markdown",
      "metadata": {
        "id": "A5gawGnyc4_p",
        "colab_type": "text"
      },
      "source": [
        "## Model 1\n",
        "4 resnet models with a concatenation layer"
      ]
    },
    {
      "cell_type": "code",
      "metadata": {
        "id": "cFElnwjBc9Px",
        "colab_type": "code",
        "colab": {}
      },
      "source": [
        "img_shape = (300,300,3)\n",
        "\n",
        "zoom1 = ResNet50(include_top=True, weights='imagenet', input_shape=img_shape)\n",
        "zoom2 = ResNet50(include_top=True, weights='imagenet', input_shape=img_shape)\n",
        "zoom3 = ResNet50(include_top=True, weights='imagenet', input_shape=img_shape)\n",
        "zoom4 = ResNet50(include_top=True, weights='imagenet', input_shape=img_shape)\n",
        "\n",
        "# concatenation layer\n",
        "concat = Average()([zoom1.output, zoom2.output, zoom3.output, zoom4.output])\n",
        "\n",
        "full_model = Model([zoom1.input, zoom2.input, zoom3.input, zoom4.input], concat)\n"
      ],
      "execution_count": 0,
      "outputs": []
    },
    {
      "cell_type": "code",
      "metadata": {
        "id": "lLa3EyLAwPMs",
        "colab_type": "code",
        "colab": {}
      },
      "source": [
        "# to train, call\n",
        "EPOCHS = 20\n",
        "BATCH_SIZE = 32\n",
        "\n",
        "full_model.fit([X_train1, X_train2, X_train3, X_train4],\n",
        "               [Y_train1, Y_train2, Y_train3, Y_train4],\n",
        "                epochs=EPOCHS,\n",
        "                batch_size=BATCH_SIZE)\n",
        "\n",
        "score = model.evaluate([X_test1, X_test2, X_test3, X_test4],\n",
        "                       [Y_test1, Y_test2, Y_test3, Y_test4],\n",
        "                       batch_size=BATCH_SIZE)"
      ],
      "execution_count": 0,
      "outputs": []
    },
    {
      "cell_type": "markdown",
      "metadata": {
        "id": "eT3fVjtic9e-",
        "colab_type": "text"
      },
      "source": [
        "# Model 2\n",
        "Transfer Learning using weights from Resnet \\\\\n",
        "Extract features from Resnet weights and training/test data"
      ]
    },
    {
      "cell_type": "code",
      "metadata": {
        "id": "R9pcLg6adOND",
        "colab_type": "code",
        "colab": {}
      },
      "source": [
        "img_shape = (300,300,3)\n",
        "\n",
        "base = ResNet50(include_top=True, weights='imagenet', input_shape=img_shape)\n"
      ],
      "execution_count": 0,
      "outputs": []
    }
  ]
}