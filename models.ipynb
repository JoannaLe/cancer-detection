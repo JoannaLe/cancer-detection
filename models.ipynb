{
  "nbformat": 4,
  "nbformat_minor": 0,
  "metadata": {
    "colab": {
      "name": "models.ipynb",
      "version": "0.3.2",
      "provenance": [],
      "include_colab_link": true
    },
    "kernelspec": {
      "name": "python3",
      "display_name": "Python 3"
    }
  },
  "cells": [
    {
      "cell_type": "markdown",
      "metadata": {
        "id": "view-in-github",
        "colab_type": "text"
      },
      "source": [
        "<a href=\"https://colab.research.google.com/github/JoannaLe/cancer-detection/blob/master/models.ipynb\" target=\"_parent\"><img src=\"https://colab.research.google.com/assets/colab-badge.svg\" alt=\"Open In Colab\"/></a>"
      ]
    },
    {
      "cell_type": "code",
      "metadata": {
        "id": "VrXN61UMcsAd",
        "colab_type": "code",
        "outputId": "6c40ad08-5c56-4817-fdad-4fe9d1ee80df",
        "colab": {
          "base_uri": "https://localhost:8080/",
          "height": 34
        }
      },
      "source": [
        "from keras.applications.resnet50 import ResNet50\n",
        "from keras.layers import Conv2D, Dense, Dropout, Flatten, MaxPooling2D\n",
        "from keras.models import Sequential, Model\n",
        "\n",
        "import numpy as np\n",
        "import os\n",
        "import matplotlib.pyplot as plt"
      ],
      "execution_count": 18,
      "outputs": [
        {
          "output_type": "stream",
          "text": [
            "Using TensorFlow backend.\n"
          ],
          "name": "stderr"
        }
      ]
    },
    {
      "cell_type": "code",
      "metadata": {
        "id": "h5I2U41Hy5kX",
        "colab_type": "code",
        "outputId": "a534a85d-810a-4520-dd62-8002a5f4adde",
        "colab": {
          "base_uri": "https://localhost:8080/",
          "height": 125
        }
      },
      "source": [
        "# Open Google Cloud Drive\n",
        "from google.colab import drive\n",
        "drive.mount('/content/gdrive')"
      ],
      "execution_count": 1,
      "outputs": [
        {
          "output_type": "stream",
          "text": [
            "Go to this URL in a browser: https://accounts.google.com/o/oauth2/auth?client_id=947318989803-6bn6qk8qdgf4n4g3pfee6491hc0brc4i.apps.googleusercontent.com&redirect_uri=urn%3Aietf%3Awg%3Aoauth%3A2.0%3Aoob&scope=email%20https%3A%2F%2Fwww.googleapis.com%2Fauth%2Fdocs.test%20https%3A%2F%2Fwww.googleapis.com%2Fauth%2Fdrive%20https%3A%2F%2Fwww.googleapis.com%2Fauth%2Fdrive.photos.readonly%20https%3A%2F%2Fwww.googleapis.com%2Fauth%2Fpeopleapi.readonly&response_type=code\n",
            "\n",
            "Enter your authorization code:\n",
            "··········\n",
            "Mounted at /content/gdrive\n"
          ],
          "name": "stdout"
        }
      ]
    },
    {
      "cell_type": "code",
      "metadata": {
        "id": "1pjhYjpfJfTA",
        "colab_type": "code",
        "colab": {
          "base_uri": "https://localhost:8080/",
          "height": 52
        },
        "outputId": "89b38f70-8535-49c1-f551-c7b589a007ff"
      },
      "source": [
        "print(os.getcwd())\n",
        "os.chdir(\"/content\")\n",
        "!ls"
      ],
      "execution_count": 16,
      "outputs": [
        {
          "output_type": "stream",
          "text": [
            "/\n",
            "gdrive\tsample_data\n"
          ],
          "name": "stdout"
        }
      ]
    },
    {
      "cell_type": "code",
      "metadata": {
        "id": "5OMHE6yazCjF",
        "colab_type": "code",
        "outputId": "0d643351-5cb4-4b05-9b29-8c95b92311a8",
        "colab": {
          "base_uri": "https://localhost:8080/",
          "height": 107
        }
      },
      "source": [
        "# get X training data\n",
        "x_path = \"gdrive/My Drive/cancer-detection/patch-zoom-4\"\n",
        "print(os.listdir(x_path))\n",
        "X_train = []\n",
        "\n",
        "for patch_file in os.listdir(x_path):\n",
        "  patch_arr = np.loadtxt(patch_file, dtype=int)\n",
        "  X_train.append(patch_arr)\n",
        "  \n",
        "print(type(X_train[0]))\n",
        "print(len(X_train))\n",
        "\n",
        "# get Y training data\n",
        "y_path = \"gdrive/My Drive/cancer-detection/mask-zoom-4\"\n",
        "print(os.listdir(y_path))\n",
        "y_train = []\n",
        "\n",
        "for mask_file in os.listdir(x_path):\n",
        "  mask_path = os.path.join(y_path, mask_file)\n",
        "  mask = open(mask_path, 'r').read()\n",
        "  y_train.append(mask)"
      ],
      "execution_count": 25,
      "outputs": [
        {
          "output_type": "stream",
          "text": [
            "['patch_0', 'patch_1', 'patch_2', 'patch_3', 'patch_4', 'patch_5', 'patch_6', 'patch_7', 'patch_8', 'patch_10', 'patch_9', 'patch_11']\n",
            "/content\n",
            "[\n",
            "12\n"
          ],
          "name": "stdout"
        }
      ]
    },
    {
      "cell_type": "markdown",
      "metadata": {
        "id": "A5gawGnyc4_p",
        "colab_type": "text"
      },
      "source": [
        "## Model 1\n",
        "4 resnet models with a concatenation layer"
      ]
    },
    {
      "cell_type": "code",
      "metadata": {
        "id": "cFElnwjBc9Px",
        "colab_type": "code",
        "colab": {}
      },
      "source": [
        "img_shape = (300,300,3)\n",
        "\n",
        "model1 = ResNet50(include_top=True, weights='imagenet', input_shape=img_shape)\n",
        "model2 = ResNet50(include_top=True, weights='imagenet', input_shape=img_shape)\n",
        "model3 = ResNet50(include_top=True, weights='imagenet', input_shape=img_shape)\n",
        "model4 = ResNet50(include_top=True, weights='imagenet', input_shape=img_shape)\n",
        "\n",
        "# concatenation layer\n",
        "concat = Average()([model1.output, model2.output, model3.output, model4.output])\n",
        "\n",
        "full_model = Model([model1.input, model2.input, model3.input, model4.input], concat)\n"
      ],
      "execution_count": 0,
      "outputs": []
    },
    {
      "cell_type": "code",
      "metadata": {
        "id": "lLa3EyLAwPMs",
        "colab_type": "code",
        "colab": {}
      },
      "source": [
        "# to train, call\n",
        "EPOCHS = 20\n",
        "BATCH_SIZE = 32\n",
        "\n",
        "full_model.fit([X_train1, X_train2, X_train3, X_train4],\n",
        "               [Y_train1, Y_train2, Y_train3, Y_train4],\n",
        "                epochs=EPOCHS,\n",
        "                batch_size=BATCH_SIZE)\n",
        "\n",
        "score = model.evaluate([X_test1, X_test2, X_test3, X_test4],\n",
        "                       [Y_test1, Y_test2, Y_test3, Y_test4],\n",
        "                       batch_size=BATCH_SIZE)"
      ],
      "execution_count": 0,
      "outputs": []
    },
    {
      "cell_type": "code",
      "metadata": {
        "id": "rb4jecpVApes",
        "colab_type": "code",
        "colab": {}
      },
      "source": [
        ""
      ],
      "execution_count": 0,
      "outputs": []
    },
    {
      "cell_type": "markdown",
      "metadata": {
        "id": "eT3fVjtic9e-",
        "colab_type": "text"
      },
      "source": [
        "# Model 2\n",
        "Transfer Learning using weights from Resnet \\\\\n",
        "Extract features from Resnet weights and training/test data"
      ]
    },
    {
      "cell_type": "code",
      "metadata": {
        "id": "R9pcLg6adOND",
        "colab_type": "code",
        "colab": {}
      },
      "source": [
        "img_shape = (300,300,3)\n",
        "\n",
        "base = ResNet50(include_top=True, weights='imagenet', input_shape=img_shape)\n"
      ],
      "execution_count": 0,
      "outputs": []
    }
  ]
}